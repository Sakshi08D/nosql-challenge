{
 "cells": [
  {
   "cell_type": "markdown",
   "id": "9a57c4c6",
   "metadata": {},
   "source": [
    "# Eat Safe, Love"
   ]
  },
  {
   "cell_type": "markdown",
   "id": "064ef857",
   "metadata": {},
   "source": [
    "## Part 1: Database and Jupyter Notebook Set Up"
   ]
  },
  {
   "cell_type": "markdown",
   "id": "664e3c1f",
   "metadata": {},
   "source": [
    "Import the data provided in the `establishments.json` file from your Terminal. Name the database `uk_food` and the collection `establishments`.\n",
    "\n",
    "Within this markdown cell, copy the line of text you used to import the data from your Terminal. This way, future analysts will be able to repeat your process.\n",
    "\n",
    "e.g.: Import the dataset with `YOUR IMPORT TEXT HERE`"
   ]
  },
  {
   "cell_type": "code",
   "execution_count": 10,
   "id": "afe23c7b",
   "metadata": {},
   "outputs": [],
   "source": [
    "#!pip install pymongo"
   ]
  },
  {
   "cell_type": "code",
   "execution_count": 15,
   "id": "3ecdd008",
   "metadata": {},
   "outputs": [],
   "source": [
    "# Import dependencies\n",
    "from pymongo import MongoClient\n",
    "from pprint import pprint"
   ]
  },
  {
   "cell_type": "code",
   "execution_count": 16,
   "id": "59390c4a",
   "metadata": {},
   "outputs": [],
   "source": [
    "# Create an instance of MongoClient\n",
    "mongo = MongoClient(port=27017)\n",
    "# Create a client instance\n",
    "client = MongoClient('mongodb://localhost:27017/')"
   ]
  },
  {
   "cell_type": "code",
   "execution_count": 17,
   "id": "7f9ececa",
   "metadata": {},
   "outputs": [
    {
     "name": "stdout",
     "output_type": "stream",
     "text": [
      "['admin', 'config', 'local', 'uk_food']\n"
     ]
    }
   ],
   "source": [
    "# confirm that our new database was created\n",
    "db_list = client.list_database_names()\n",
    "print(db_list)"
   ]
  },
  {
   "cell_type": "code",
   "execution_count": 18,
   "id": "71e373c1",
   "metadata": {},
   "outputs": [],
   "source": [
    "# assign the uk_food database to a variable name\n",
    "db = mongo['uk_food']"
   ]
  },
  {
   "cell_type": "code",
   "execution_count": 19,
   "id": "ef1b89ed",
   "metadata": {},
   "outputs": [
    {
     "name": "stdout",
     "output_type": "stream",
     "text": [
      "['establishments']\n"
     ]
    }
   ],
   "source": [
    "# Review the collections in our new database\n",
    "collection_list = db.list_collection_names()\n",
    "print(collection_list)  "
   ]
  },
  {
   "cell_type": "code",
   "execution_count": 20,
   "id": "6a0d92df",
   "metadata": {},
   "outputs": [
    {
     "name": "stdout",
     "output_type": "stream",
     "text": [
      "{'AddressLine1': 'West Cottage',\n",
      " 'AddressLine2': 'South Foreland Lighthouse',\n",
      " 'AddressLine3': 'The Front',\n",
      " 'AddressLine4': 'St Margarets Bay',\n",
      " 'BusinessName': 'Mrs Knotts Tea Room',\n",
      " 'BusinessType': 'Restaurant/Cafe/Canteen',\n",
      " 'BusinessTypeID': 1,\n",
      " 'ChangesByServerID': 0,\n",
      " 'Distance': 4587.492467848017,\n",
      " 'FHRSID': 429991,\n",
      " 'LocalAuthorityBusinessID': 'PI/000055200',\n",
      " 'LocalAuthorityCode': '182',\n",
      " 'LocalAuthorityEmailAddress': 'publicprotection@dover.gov.uk',\n",
      " 'LocalAuthorityName': 'Dover',\n",
      " 'LocalAuthorityWebSite': 'http://www.dover.gov.uk/',\n",
      " 'NewRatingPending': False,\n",
      " 'Phone': '',\n",
      " 'PostCode': 'CT15 6HP',\n",
      " 'RatingDate': '2019-05-02T00:00:00',\n",
      " 'RatingKey': 'fhrs_5_en-gb',\n",
      " 'RatingValue': '5',\n",
      " 'RightToReply': '',\n",
      " 'SchemeType': 'FHRS',\n",
      " '_id': ObjectId('647d6e3f22d0bba957a1b087'),\n",
      " 'geocode': {'latitude': '51.14061', 'longitude': '1.371894'},\n",
      " 'links': [{'href': 'https://api.ratings.food.gov.uk/establishments/429991',\n",
      "            'rel': 'self'}],\n",
      " 'meta': {'dataSource': None,\n",
      "          'extractDate': '0001-01-01T00:00:00',\n",
      "          'itemCount': 0,\n",
      "          'pageNumber': 0,\n",
      "          'pageSize': 0,\n",
      "          'returncode': None,\n",
      "          'totalCount': 0,\n",
      "          'totalPages': 0},\n",
      " 'scores': {'ConfidenceInManagement': 0, 'Hygiene': 0, 'Structural': 0}}\n"
     ]
    }
   ],
   "source": [
    "# Review a document in the establishments collection\n",
    "sample_doc = db['establishments'].find_one()\n",
    "pprint(sample_doc) "
   ]
  },
  {
   "cell_type": "code",
   "execution_count": 21,
   "id": "11c9f11b",
   "metadata": {},
   "outputs": [],
   "source": [
    "# assign the collection to a variable\n",
    "establishments = db['establishments']"
   ]
  },
  {
   "cell_type": "markdown",
   "id": "d5671434",
   "metadata": {},
   "source": [
    "## Part 2: Update the Database"
   ]
  },
  {
   "cell_type": "markdown",
   "id": "314bd884",
   "metadata": {},
   "source": [
    "1. An exciting new halal restaurant just opened in Greenwich, but hasn't been rated yet. The magazine has asked you to include it in your analysis. Add the following restaurant \"Penang Flavours\" to the database."
   ]
  },
  {
   "cell_type": "code",
   "execution_count": null,
   "id": "c2da7648",
   "metadata": {},
   "outputs": [],
   "source": [
    "# Create a dictionary for the new restaurant data\n"
   ]
  },
  {
   "cell_type": "code",
   "execution_count": 23,
   "id": "a6e5cece",
   "metadata": {},
   "outputs": [
    {
     "data": {
      "text/plain": [
       "<pymongo.results.InsertOneResult at 0x2351bc75570>"
      ]
     },
     "execution_count": 23,
     "metadata": {},
     "output_type": "execute_result"
    }
   ],
   "source": [
    "# Insert the new restaurant into the collection\n",
    "# Define the new restaurant document\n",
    "new_restaurant = {\n",
    "    'BusinessName': 'Penang Flavours',\n",
    "    'BusinessType': 'Restaurant/Cafe/Canteen',\n",
    "    'LocalAuthorityName': 'Greenwich',\n",
    "    'Address': {\n",
    "        'AddressLine1': '123 Flavor Street',\n",
    "        'AddressLine2': 'Greenwich',\n",
    "        'PostCode': 'SE10 8RS',\n",
    "        'City': 'London',\n",
    "        'Country': 'United Kingdom'\n",
    "    },\n",
    "    'RatingValue': '5',\n",
    "    'Phone': '+44 20 1234 5678',\n",
    "    'Email': 'info@penangflavours.co.uk',\n",
    "    'Website': 'https://www.penangflavours.co.uk',\n",
    "    'OperatingHours': {\n",
    "        'Monday': '9am - 9pm',\n",
    "        'Tuesday': '9am - 9pm',\n",
    "        'Wednesday': '9am - 9pm',\n",
    "        'Thursday': '9am - 9pm',\n",
    "        'Friday': '9am - 10pm',\n",
    "        'Saturday': '9am - 10pm',\n",
    "        'Sunday': 'Closed',\n",
    "    },\n",
    "    'Cuisine': 'Malaysian',\n",
    "    'Services': ['Dine-in', 'Takeaway', 'Delivery'],\n",
    "    'AllergenInformation': 'Please inform us about any allergies before ordering.'\n",
    "}\n",
    "establishments.insert_one(new_restaurant)"
   ]
  },
  {
   "cell_type": "code",
   "execution_count": 24,
   "id": "63bb10f9",
   "metadata": {},
   "outputs": [
    {
     "name": "stdout",
     "output_type": "stream",
     "text": [
      "{'_id': ObjectId('647d6fe0e9bf518735e1d27b'), 'BusinessName': 'Penang Flavours', 'BusinessType': 'Restaurant/Cafe/Canteen', 'LocalAuthorityName': 'Greenwich', 'Address': {'AddressLine1': '123 Flavor Street', 'AddressLine2': 'Greenwich', 'PostCode': 'SE10 8RS', 'City': 'London', 'Country': 'United Kingdom'}, 'RatingValue': '5', 'Phone': '+44 20 1234 5678', 'Email': 'info@penangflavours.co.uk', 'Website': 'https://www.penangflavours.co.uk', 'OperatingHours': {'Monday': '9am - 9pm', 'Tuesday': '9am - 9pm', 'Wednesday': '9am - 9pm', 'Thursday': '9am - 9pm', 'Friday': '9am - 10pm', 'Saturday': '9am - 10pm', 'Sunday': 'Closed'}, 'Cuisine': 'Malaysian', 'Services': ['Dine-in', 'Takeaway', 'Delivery'], 'AllergenInformation': 'Please inform us about any allergies before ordering.'}\n"
     ]
    }
   ],
   "source": [
    "# Check that the new restaurant was inserted\n",
    "# Find the new restaurant in the database\n",
    "new_restaurant = establishments.find_one({\"BusinessName\": \"Penang Flavours\"})\n",
    "\n",
    "# Print the restaurant data\n",
    "print(new_restaurant)"
   ]
  },
  {
   "cell_type": "markdown",
   "id": "0ef4395a",
   "metadata": {},
   "source": [
    "2. Find the BusinessTypeID for \"Restaurant/Cafe/Canteen\" and return only the `BusinessTypeID` and `BusinessType` fields."
   ]
  },
  {
   "cell_type": "code",
   "execution_count": 25,
   "id": "93c63829",
   "metadata": {},
   "outputs": [
    {
     "name": "stdout",
     "output_type": "stream",
     "text": [
      "{'_id': ObjectId('647d6e3f22d0bba957a1b087'), 'BusinessType': 'Restaurant/Cafe/Canteen', 'BusinessTypeID': 1}\n"
     ]
    }
   ],
   "source": [
    "# Find the BusinessTypeID for \"Restaurant/Cafe/Canteen\" and return only the BusinessTypeID and BusinessType fields\n",
    "doc = establishments.find_one({'BusinessType': 'Restaurant/Cafe/Canteen'}, {'BusinessTypeID': 1, 'BusinessType': 1})\n",
    "print(doc)"
   ]
  },
  {
   "cell_type": "markdown",
   "id": "4e570caf",
   "metadata": {},
   "source": [
    "3. Update the new restaurant with the `BusinessTypeID` you found."
   ]
  },
  {
   "cell_type": "code",
   "execution_count": 26,
   "id": "7f599f3d",
   "metadata": {},
   "outputs": [
    {
     "data": {
      "text/plain": [
       "<pymongo.results.UpdateResult at 0x2351bbf44c0>"
      ]
     },
     "execution_count": 26,
     "metadata": {},
     "output_type": "execute_result"
    }
   ],
   "source": [
    "# Update the new restaurant with the correct BusinessTypeID\n",
    "BusinessTypeID = doc['BusinessTypeID']  # Replace this with the actual ID you found\n",
    "establishments.update_one({'BusinessName': 'Penang Flavours'}, {'$set': {'BusinessTypeID': BusinessTypeID}})"
   ]
  },
  {
   "cell_type": "code",
   "execution_count": 27,
   "id": "a6ad16f7",
   "metadata": {},
   "outputs": [
    {
     "name": "stdout",
     "output_type": "stream",
     "text": [
      "{'_id': ObjectId('647d6fe0e9bf518735e1d27b'), 'BusinessName': 'Penang Flavours', 'BusinessType': 'Restaurant/Cafe/Canteen', 'LocalAuthorityName': 'Greenwich', 'Address': {'AddressLine1': '123 Flavor Street', 'AddressLine2': 'Greenwich', 'PostCode': 'SE10 8RS', 'City': 'London', 'Country': 'United Kingdom'}, 'RatingValue': '5', 'Phone': '+44 20 1234 5678', 'Email': 'info@penangflavours.co.uk', 'Website': 'https://www.penangflavours.co.uk', 'OperatingHours': {'Monday': '9am - 9pm', 'Tuesday': '9am - 9pm', 'Wednesday': '9am - 9pm', 'Thursday': '9am - 9pm', 'Friday': '9am - 10pm', 'Saturday': '9am - 10pm', 'Sunday': 'Closed'}, 'Cuisine': 'Malaysian', 'Services': ['Dine-in', 'Takeaway', 'Delivery'], 'AllergenInformation': 'Please inform us about any allergies before ordering.', 'BusinessTypeID': 1}\n"
     ]
    }
   ],
   "source": [
    "# Confirm that the new restaurant was updated\n",
    "updated_restaurant = establishments.find_one({\"BusinessName\": \"Penang Flavours\"})\n",
    "\n",
    "# Print the updated restaurant data\n",
    "print(updated_restaurant)"
   ]
  },
  {
   "cell_type": "markdown",
   "id": "67281254",
   "metadata": {},
   "source": [
    "4. The magazine is not interested in any establishments in Dover, so check how many documents contain the Dover Local Authority. Then, remove any establishments within the Dover Local Authority from the database, and check the number of documents to ensure they were deleted."
   ]
  },
  {
   "cell_type": "code",
   "execution_count": 28,
   "id": "768474a6",
   "metadata": {},
   "outputs": [
    {
     "name": "stdout",
     "output_type": "stream",
     "text": [
      "994\n",
      "38786\n"
     ]
    }
   ],
   "source": [
    "# Find how many documents have LocalAuthorityName as \"Dover\"\n",
    "print(establishments.count_documents({'LocalAuthorityName': 'Dover'}))\n",
    "establishments.delete_many({'LocalAuthorityName': 'Dover'})\n",
    "print(establishments.count_documents({}))"
   ]
  },
  {
   "cell_type": "code",
   "execution_count": 29,
   "id": "a11d5f1b",
   "metadata": {},
   "outputs": [
    {
     "data": {
      "text/plain": [
       "<pymongo.results.DeleteResult at 0x2351df2fd60>"
      ]
     },
     "execution_count": 29,
     "metadata": {},
     "output_type": "execute_result"
    }
   ],
   "source": [
    "# Delete all documents where LocalAuthorityName is \"Dover\"\n",
    "establishments.delete_many({'LocalAuthorityName': 'Dover'})"
   ]
  },
  {
   "cell_type": "code",
   "execution_count": 30,
   "id": "2a51aba0",
   "metadata": {},
   "outputs": [
    {
     "name": "stdout",
     "output_type": "stream",
     "text": [
      "Remaining Dover documents: 0\n"
     ]
    }
   ],
   "source": [
    "# Check if any remaining documents include Dover\n",
    "# Check if any remaining documents include Dover\n",
    "remaining_dover_docs = establishments.count_documents({'LocalAuthorityName': 'Dover'})\n",
    "print(f'Remaining Dover documents: {remaining_dover_docs}')"
   ]
  },
  {
   "cell_type": "code",
   "execution_count": 31,
   "id": "8c356f7b",
   "metadata": {},
   "outputs": [
    {
     "name": "stdout",
     "output_type": "stream",
     "text": [
      "{'AddressLine1': 'Wear Bay Road',\n",
      " 'AddressLine2': 'Folkestone',\n",
      " 'AddressLine3': 'Kent',\n",
      " 'AddressLine4': '',\n",
      " 'BusinessName': 'Wear Bay Bowls Club',\n",
      " 'BusinessType': 'Pub/bar/nightclub',\n",
      " 'BusinessTypeID': 7843,\n",
      " 'ChangesByServerID': 0,\n",
      " 'Distance': 4591.821311183521,\n",
      " 'FHRSID': 647177,\n",
      " 'LocalAuthorityBusinessID': 'PI/000041489',\n",
      " 'LocalAuthorityCode': '188',\n",
      " 'LocalAuthorityEmailAddress': 'foodteam@folkestone-hythe.gov.uk',\n",
      " 'LocalAuthorityName': 'Folkestone and Hythe',\n",
      " 'LocalAuthorityWebSite': 'http://www.folkestone-hythe.gov.uk',\n",
      " 'NewRatingPending': False,\n",
      " 'Phone': '',\n",
      " 'PostCode': 'CT19 6PY',\n",
      " 'RatingDate': '2014-03-31T00:00:00',\n",
      " 'RatingKey': 'fhrs_4_en-gb',\n",
      " 'RatingValue': '4',\n",
      " 'RightToReply': '',\n",
      " 'SchemeType': 'FHRS',\n",
      " '_id': ObjectId('647d6e3f22d0bba957a1b36e'),\n",
      " 'geocode': {'latitude': '51.086058', 'longitude': '1.196408'},\n",
      " 'links': [{'href': 'https://api.ratings.food.gov.uk/establishments/647177',\n",
      "            'rel': 'self'}],\n",
      " 'meta': {'dataSource': None,\n",
      "          'extractDate': '0001-01-01T00:00:00',\n",
      "          'itemCount': 0,\n",
      "          'pageNumber': 0,\n",
      "          'pageSize': 0,\n",
      "          'returncode': None,\n",
      "          'totalCount': 0,\n",
      "          'totalPages': 0},\n",
      " 'scores': {'ConfidenceInManagement': 10, 'Hygiene': 5, 'Structural': 5}}\n"
     ]
    }
   ],
   "source": [
    "# Check that other documents remain with 'find_one'\n",
    "remaining_doc = establishments.find_one()\n",
    "pprint(remaining_doc)"
   ]
  },
  {
   "cell_type": "markdown",
   "id": "e9f1662d",
   "metadata": {},
   "source": [
    "5. Some of the number values are stored as strings, when they should be stored as numbers."
   ]
  },
  {
   "cell_type": "markdown",
   "id": "c46df2df",
   "metadata": {},
   "source": [
    "Use `update_many` to convert `latitude` and `longitude` to decimal numbers."
   ]
  },
  {
   "cell_type": "code",
   "execution_count": 39,
   "id": "fd4112ce",
   "metadata": {},
   "outputs": [],
   "source": [
    "from bson.decimal128 import Decimal128\n",
    "from pymongo import UpdateOne\n",
    "from decimal import Decimal\n",
    "\n",
    "# Change the data type from String to Decimal for longitude and latitude\n",
    "updates = []\n",
    "cursor = establishments.find({})\n",
    "\n",
    "for doc in cursor:\n",
    "    if 'geocode' in doc and 'latitude' in doc['geocode'] and 'longitude' in doc['geocode']:\n",
    "        latitude = float(str(doc['geocode']['latitude']))\n",
    "        longitude = float(str(doc['geocode']['longitude']))\n",
    "        \n",
    "        updates.append(\n",
    "            UpdateOne(\n",
    "                {'_id': doc['_id']},\n",
    "                {'$set': \n",
    "                    {\n",
    "                        'geocode.latitude': latitude,\n",
    "                        'geocode.longitude': longitude\n",
    "                    }\n",
    "                }\n",
    "            )\n",
    "        )\n",
    "\n",
    "if updates:\n",
    "    establishments.bulk_write(updates)"
   ]
  },
  {
   "cell_type": "markdown",
   "id": "142e319c",
   "metadata": {},
   "source": [
    "Use `update_many` to convert `RatingValue` to integer numbers."
   ]
  },
  {
   "cell_type": "code",
   "execution_count": 40,
   "id": "04430a5b",
   "metadata": {},
   "outputs": [
    {
     "data": {
      "text/plain": [
       "<pymongo.results.UpdateResult at 0x235292720b0>"
      ]
     },
     "execution_count": 40,
     "metadata": {},
     "output_type": "execute_result"
    }
   ],
   "source": [
    "# Set non 1-5 Rating Values to Null\n",
    "non_ratings = [\"AwaitingInspection\", \"Awaiting Inspection\", \"AwaitingPublication\", \"Pass\", \"Exempt\"]\n",
    "establishments.update_many({\"RatingValue\": {\"$in\": non_ratings}}, [ {'$set':{ \"RatingValue\" : None}} ])"
   ]
  },
  {
   "cell_type": "code",
   "execution_count": 41,
   "id": "92524ccc",
   "metadata": {},
   "outputs": [
    {
     "data": {
      "text/plain": [
       "<pymongo.results.UpdateResult at 0x235292719f0>"
      ]
     },
     "execution_count": 41,
     "metadata": {},
     "output_type": "execute_result"
    }
   ],
   "source": [
    "# Change the data type from String to Integer for RatingValue\n",
    "establishments.update_many({\"RatingValue\": {\"$type\": \"string\"}}, {\"$set\": {\"RatingValue\": {\"$toInt\": \"$RatingValue\"}}})"
   ]
  },
  {
   "cell_type": "code",
   "execution_count": 42,
   "id": "0deacaf9",
   "metadata": {},
   "outputs": [
    {
     "name": "stdout",
     "output_type": "stream",
     "text": [
      "{'_id': ObjectId('647d6e3f22d0bba957a1b36e'), 'FHRSID': 647177, 'ChangesByServerID': 0, 'LocalAuthorityBusinessID': 'PI/000041489', 'BusinessName': 'Wear Bay Bowls Club', 'BusinessType': 'Pub/bar/nightclub', 'BusinessTypeID': 7843, 'AddressLine1': 'Wear Bay Road', 'AddressLine2': 'Folkestone', 'AddressLine3': 'Kent', 'AddressLine4': '', 'PostCode': 'CT19 6PY', 'Phone': '', 'RatingValue': 4, 'RatingKey': 'fhrs_4_en-gb', 'RatingDate': '2014-03-31T00:00:00', 'LocalAuthorityCode': '188', 'LocalAuthorityName': 'Folkestone and Hythe', 'LocalAuthorityWebSite': 'http://www.folkestone-hythe.gov.uk', 'LocalAuthorityEmailAddress': 'foodteam@folkestone-hythe.gov.uk', 'scores': {'Hygiene': 5, 'Structural': 5, 'ConfidenceInManagement': 10}, 'SchemeType': 'FHRS', 'geocode': {'longitude': 1.196408, 'latitude': 51.086058}, 'RightToReply': '', 'Distance': 4591.821311183521, 'NewRatingPending': False, 'meta': {'dataSource': None, 'extractDate': '0001-01-01T00:00:00', 'itemCount': 0, 'returncode': None, 'totalCount': 0, 'totalPages': 0, 'pageSize': 0, 'pageNumber': 0}, 'links': [{'rel': 'self', 'href': 'https://api.ratings.food.gov.uk/establishments/647177'}]}\n"
     ]
    }
   ],
   "source": [
    "# Check that the coordinates and rating value are now numbers\n",
    "cursor = establishments.find_one()\n",
    "print(cursor)"
   ]
  },
  {
   "cell_type": "code",
   "execution_count": null,
   "id": "9521c543",
   "metadata": {},
   "outputs": [],
   "source": []
  }
 ],
 "metadata": {
  "kernelspec": {
   "display_name": "Python 3 (ipykernel)",
   "language": "python",
   "name": "python3"
  },
  "language_info": {
   "codemirror_mode": {
    "name": "ipython",
    "version": 3
   },
   "file_extension": ".py",
   "mimetype": "text/x-python",
   "name": "python",
   "nbconvert_exporter": "python",
   "pygments_lexer": "ipython3",
   "version": "3.10.9"
  }
 },
 "nbformat": 4,
 "nbformat_minor": 5
}
